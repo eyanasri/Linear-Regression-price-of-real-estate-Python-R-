{
 "cells": [
  {
   "cell_type": "markdown",
   "id": "c372b012",
   "metadata": {},
   "source": [
    "# TP régression lineare en python\n",
    "## EYA NASRI\n",
    "## 4ERP-BI 2"
   ]
  },
  {
   "cell_type": "markdown",
   "id": "a965bc9a",
   "metadata": {},
   "source": [
    "### Objectif: Il s’agit de prédire le prix de biens immobiliers en fonction d’informations concernant l’environnement en utilisant le dataset BOSTON. On va Predire le MEDV (- Median value of owner-occupied homes in 1000's dollar ) selon les autres variables"
   ]
  },
  {
   "cell_type": "code",
   "execution_count": 94,
   "id": "33216d14",
   "metadata": {},
   "outputs": [],
   "source": [
    "#Chargement des bibliothèques\n",
    "import numpy as np \n",
    "import pandas as pd \n",
    "import matplotlib.pyplot as plt \n",
    "import seaborn as sns\n",
    "import warnings\n",
    "warnings.filterwarnings('ignore')\n",
    "\n",
    "%matplotlib inline"
   ]
  },
  {
   "cell_type": "code",
   "execution_count": 61,
   "id": "820e9e01",
   "metadata": {},
   "outputs": [
    {
     "data": {
      "text/html": [
       "<div>\n",
       "<style scoped>\n",
       "    .dataframe tbody tr th:only-of-type {\n",
       "        vertical-align: middle;\n",
       "    }\n",
       "\n",
       "    .dataframe tbody tr th {\n",
       "        vertical-align: top;\n",
       "    }\n",
       "\n",
       "    .dataframe thead th {\n",
       "        text-align: right;\n",
       "    }\n",
       "</style>\n",
       "<table border=\"1\" class=\"dataframe\">\n",
       "  <thead>\n",
       "    <tr style=\"text-align: right;\">\n",
       "      <th></th>\n",
       "      <th>CRIM</th>\n",
       "      <th>ZN</th>\n",
       "      <th>INDUS</th>\n",
       "      <th>CHAS</th>\n",
       "      <th>NOX</th>\n",
       "      <th>RM</th>\n",
       "      <th>AGE</th>\n",
       "      <th>DIS</th>\n",
       "      <th>RAD</th>\n",
       "      <th>TAX</th>\n",
       "      <th>PTRATIO</th>\n",
       "      <th>LSTAT</th>\n",
       "      <th>MEDV</th>\n",
       "    </tr>\n",
       "  </thead>\n",
       "  <tbody>\n",
       "    <tr>\n",
       "      <th>0</th>\n",
       "      <td>0.00632</td>\n",
       "      <td>18.0</td>\n",
       "      <td>2.31</td>\n",
       "      <td>0</td>\n",
       "      <td>0.538</td>\n",
       "      <td>6.575</td>\n",
       "      <td>65.2</td>\n",
       "      <td>4.0900</td>\n",
       "      <td>1</td>\n",
       "      <td>296</td>\n",
       "      <td>15.3</td>\n",
       "      <td>4.98</td>\n",
       "      <td>24.0</td>\n",
       "    </tr>\n",
       "    <tr>\n",
       "      <th>1</th>\n",
       "      <td>0.02731</td>\n",
       "      <td>0.0</td>\n",
       "      <td>7.07</td>\n",
       "      <td>0</td>\n",
       "      <td>0.469</td>\n",
       "      <td>6.421</td>\n",
       "      <td>78.9</td>\n",
       "      <td>4.9671</td>\n",
       "      <td>2</td>\n",
       "      <td>242</td>\n",
       "      <td>17.8</td>\n",
       "      <td>9.14</td>\n",
       "      <td>21.6</td>\n",
       "    </tr>\n",
       "    <tr>\n",
       "      <th>2</th>\n",
       "      <td>0.02729</td>\n",
       "      <td>0.0</td>\n",
       "      <td>7.07</td>\n",
       "      <td>0</td>\n",
       "      <td>0.469</td>\n",
       "      <td>7.185</td>\n",
       "      <td>61.1</td>\n",
       "      <td>4.9671</td>\n",
       "      <td>2</td>\n",
       "      <td>242</td>\n",
       "      <td>17.8</td>\n",
       "      <td>4.03</td>\n",
       "      <td>34.7</td>\n",
       "    </tr>\n",
       "    <tr>\n",
       "      <th>3</th>\n",
       "      <td>0.03237</td>\n",
       "      <td>0.0</td>\n",
       "      <td>2.18</td>\n",
       "      <td>0</td>\n",
       "      <td>0.458</td>\n",
       "      <td>6.998</td>\n",
       "      <td>45.8</td>\n",
       "      <td>6.0622</td>\n",
       "      <td>3</td>\n",
       "      <td>222</td>\n",
       "      <td>18.7</td>\n",
       "      <td>2.94</td>\n",
       "      <td>33.4</td>\n",
       "    </tr>\n",
       "    <tr>\n",
       "      <th>4</th>\n",
       "      <td>0.06905</td>\n",
       "      <td>0.0</td>\n",
       "      <td>2.18</td>\n",
       "      <td>0</td>\n",
       "      <td>0.458</td>\n",
       "      <td>7.147</td>\n",
       "      <td>54.2</td>\n",
       "      <td>6.0622</td>\n",
       "      <td>3</td>\n",
       "      <td>222</td>\n",
       "      <td>18.7</td>\n",
       "      <td>5.33</td>\n",
       "      <td>36.2</td>\n",
       "    </tr>\n",
       "  </tbody>\n",
       "</table>\n",
       "</div>"
      ],
      "text/plain": [
       "      CRIM   ZN   INDUS   CHAS    NOX     RM   AGE     DIS  RAD  TAX  PTRATIO  \\\n",
       "0  0.00632  18.0    2.31     0  0.538  6.575  65.2  4.0900    1  296     15.3   \n",
       "1  0.02731   0.0    7.07     0  0.469  6.421  78.9  4.9671    2  242     17.8   \n",
       "2  0.02729   0.0    7.07     0  0.469  7.185  61.1  4.9671    2  242     17.8   \n",
       "3  0.03237   0.0    2.18     0  0.458  6.998  45.8  6.0622    3  222     18.7   \n",
       "4  0.06905   0.0    2.18     0  0.458  7.147  54.2  6.0622    3  222     18.7   \n",
       "\n",
       "   LSTAT  MEDV  \n",
       "0   4.98  24.0  \n",
       "1   9.14  21.6  \n",
       "2   4.03  34.7  \n",
       "3   2.94  33.4  \n",
       "4   5.33  36.2  "
      ]
     },
     "execution_count": 61,
     "metadata": {},
     "output_type": "execute_result"
    }
   ],
   "source": [
    "#Chargement des données\n",
    "boston = pd.read_csv('boston.csv')\n",
    "boston.head()  "
   ]
  },
  {
   "cell_type": "code",
   "execution_count": 62,
   "id": "8d26a21c",
   "metadata": {},
   "outputs": [
    {
     "data": {
      "text/plain": [
       "(506, 13)"
      ]
     },
     "execution_count": 62,
     "metadata": {},
     "output_type": "execute_result"
    }
   ],
   "source": [
    "boston.shape"
   ]
  },
  {
   "cell_type": "code",
   "execution_count": 63,
   "id": "4331fff7",
   "metadata": {},
   "outputs": [
    {
     "name": "stdout",
     "output_type": "stream",
     "text": [
      "<class 'pandas.core.frame.DataFrame'>\n",
      "RangeIndex: 506 entries, 0 to 505\n",
      "Data columns (total 13 columns):\n",
      " #   Column   Non-Null Count  Dtype  \n",
      "---  ------   --------------  -----  \n",
      " 0   CRIM     506 non-null    float64\n",
      " 1    ZN      506 non-null    float64\n",
      " 2   INDUS    506 non-null    float64\n",
      " 3   CHAS     506 non-null    int64  \n",
      " 4   NOX      506 non-null    float64\n",
      " 5   RM       506 non-null    float64\n",
      " 6   AGE      506 non-null    float64\n",
      " 7   DIS      506 non-null    float64\n",
      " 8   RAD      506 non-null    int64  \n",
      " 9   TAX      506 non-null    int64  \n",
      " 10  PTRATIO  506 non-null    float64\n",
      " 11  LSTAT    506 non-null    float64\n",
      " 12  MEDV     506 non-null    float64\n",
      "dtypes: float64(10), int64(3)\n",
      "memory usage: 51.5 KB\n"
     ]
    }
   ],
   "source": [
    "boston.info()"
   ]
  },
  {
   "cell_type": "code",
   "execution_count": 64,
   "id": "79e1915d",
   "metadata": {},
   "outputs": [
    {
     "data": {
      "text/html": [
       "<div>\n",
       "<style scoped>\n",
       "    .dataframe tbody tr th:only-of-type {\n",
       "        vertical-align: middle;\n",
       "    }\n",
       "\n",
       "    .dataframe tbody tr th {\n",
       "        vertical-align: top;\n",
       "    }\n",
       "\n",
       "    .dataframe thead th {\n",
       "        text-align: right;\n",
       "    }\n",
       "</style>\n",
       "<table border=\"1\" class=\"dataframe\">\n",
       "  <thead>\n",
       "    <tr style=\"text-align: right;\">\n",
       "      <th></th>\n",
       "      <th>CRIM</th>\n",
       "      <th>ZN</th>\n",
       "      <th>INDUS</th>\n",
       "      <th>CHAS</th>\n",
       "      <th>NOX</th>\n",
       "      <th>RM</th>\n",
       "      <th>AGE</th>\n",
       "      <th>DIS</th>\n",
       "      <th>RAD</th>\n",
       "      <th>TAX</th>\n",
       "      <th>PTRATIO</th>\n",
       "      <th>LSTAT</th>\n",
       "      <th>MEDV</th>\n",
       "    </tr>\n",
       "  </thead>\n",
       "  <tbody>\n",
       "    <tr>\n",
       "      <th>count</th>\n",
       "      <td>506.000000</td>\n",
       "      <td>506.000000</td>\n",
       "      <td>506.000000</td>\n",
       "      <td>506.000000</td>\n",
       "      <td>506.000000</td>\n",
       "      <td>506.000000</td>\n",
       "      <td>506.000000</td>\n",
       "      <td>506.000000</td>\n",
       "      <td>506.000000</td>\n",
       "      <td>506.000000</td>\n",
       "      <td>506.000000</td>\n",
       "      <td>506.000000</td>\n",
       "      <td>506.000000</td>\n",
       "    </tr>\n",
       "    <tr>\n",
       "      <th>mean</th>\n",
       "      <td>3.613524</td>\n",
       "      <td>11.363636</td>\n",
       "      <td>11.136779</td>\n",
       "      <td>0.069170</td>\n",
       "      <td>0.554695</td>\n",
       "      <td>6.284634</td>\n",
       "      <td>68.574901</td>\n",
       "      <td>3.795043</td>\n",
       "      <td>9.549407</td>\n",
       "      <td>408.237154</td>\n",
       "      <td>18.455534</td>\n",
       "      <td>12.653063</td>\n",
       "      <td>22.532806</td>\n",
       "    </tr>\n",
       "    <tr>\n",
       "      <th>std</th>\n",
       "      <td>8.601545</td>\n",
       "      <td>23.322453</td>\n",
       "      <td>6.860353</td>\n",
       "      <td>0.253994</td>\n",
       "      <td>0.115878</td>\n",
       "      <td>0.702617</td>\n",
       "      <td>28.148861</td>\n",
       "      <td>2.105710</td>\n",
       "      <td>8.707259</td>\n",
       "      <td>168.537116</td>\n",
       "      <td>2.164946</td>\n",
       "      <td>7.141062</td>\n",
       "      <td>9.197104</td>\n",
       "    </tr>\n",
       "    <tr>\n",
       "      <th>min</th>\n",
       "      <td>0.006320</td>\n",
       "      <td>0.000000</td>\n",
       "      <td>0.460000</td>\n",
       "      <td>0.000000</td>\n",
       "      <td>0.385000</td>\n",
       "      <td>3.561000</td>\n",
       "      <td>2.900000</td>\n",
       "      <td>1.129600</td>\n",
       "      <td>1.000000</td>\n",
       "      <td>187.000000</td>\n",
       "      <td>12.600000</td>\n",
       "      <td>1.730000</td>\n",
       "      <td>5.000000</td>\n",
       "    </tr>\n",
       "    <tr>\n",
       "      <th>25%</th>\n",
       "      <td>0.082045</td>\n",
       "      <td>0.000000</td>\n",
       "      <td>5.190000</td>\n",
       "      <td>0.000000</td>\n",
       "      <td>0.449000</td>\n",
       "      <td>5.885500</td>\n",
       "      <td>45.025000</td>\n",
       "      <td>2.100175</td>\n",
       "      <td>4.000000</td>\n",
       "      <td>279.000000</td>\n",
       "      <td>17.400000</td>\n",
       "      <td>6.950000</td>\n",
       "      <td>17.025000</td>\n",
       "    </tr>\n",
       "    <tr>\n",
       "      <th>50%</th>\n",
       "      <td>0.256510</td>\n",
       "      <td>0.000000</td>\n",
       "      <td>9.690000</td>\n",
       "      <td>0.000000</td>\n",
       "      <td>0.538000</td>\n",
       "      <td>6.208500</td>\n",
       "      <td>77.500000</td>\n",
       "      <td>3.207450</td>\n",
       "      <td>5.000000</td>\n",
       "      <td>330.000000</td>\n",
       "      <td>19.050000</td>\n",
       "      <td>11.360000</td>\n",
       "      <td>21.200000</td>\n",
       "    </tr>\n",
       "    <tr>\n",
       "      <th>75%</th>\n",
       "      <td>3.677083</td>\n",
       "      <td>12.500000</td>\n",
       "      <td>18.100000</td>\n",
       "      <td>0.000000</td>\n",
       "      <td>0.624000</td>\n",
       "      <td>6.623500</td>\n",
       "      <td>94.075000</td>\n",
       "      <td>5.188425</td>\n",
       "      <td>24.000000</td>\n",
       "      <td>666.000000</td>\n",
       "      <td>20.200000</td>\n",
       "      <td>16.955000</td>\n",
       "      <td>25.000000</td>\n",
       "    </tr>\n",
       "    <tr>\n",
       "      <th>max</th>\n",
       "      <td>88.976200</td>\n",
       "      <td>100.000000</td>\n",
       "      <td>27.740000</td>\n",
       "      <td>1.000000</td>\n",
       "      <td>0.871000</td>\n",
       "      <td>8.780000</td>\n",
       "      <td>100.000000</td>\n",
       "      <td>12.126500</td>\n",
       "      <td>24.000000</td>\n",
       "      <td>711.000000</td>\n",
       "      <td>22.000000</td>\n",
       "      <td>37.970000</td>\n",
       "      <td>50.000000</td>\n",
       "    </tr>\n",
       "  </tbody>\n",
       "</table>\n",
       "</div>"
      ],
      "text/plain": [
       "             CRIM         ZN       INDUS         CHAS         NOX          RM  \\\n",
       "count  506.000000  506.000000  506.000000  506.000000  506.000000  506.000000   \n",
       "mean     3.613524   11.363636   11.136779    0.069170    0.554695    6.284634   \n",
       "std      8.601545   23.322453    6.860353    0.253994    0.115878    0.702617   \n",
       "min      0.006320    0.000000    0.460000    0.000000    0.385000    3.561000   \n",
       "25%      0.082045    0.000000    5.190000    0.000000    0.449000    5.885500   \n",
       "50%      0.256510    0.000000    9.690000    0.000000    0.538000    6.208500   \n",
       "75%      3.677083   12.500000   18.100000    0.000000    0.624000    6.623500   \n",
       "max     88.976200  100.000000   27.740000    1.000000    0.871000    8.780000   \n",
       "\n",
       "              AGE         DIS         RAD         TAX     PTRATIO       LSTAT  \\\n",
       "count  506.000000  506.000000  506.000000  506.000000  506.000000  506.000000   \n",
       "mean    68.574901    3.795043    9.549407  408.237154   18.455534   12.653063   \n",
       "std     28.148861    2.105710    8.707259  168.537116    2.164946    7.141062   \n",
       "min      2.900000    1.129600    1.000000  187.000000   12.600000    1.730000   \n",
       "25%     45.025000    2.100175    4.000000  279.000000   17.400000    6.950000   \n",
       "50%     77.500000    3.207450    5.000000  330.000000   19.050000   11.360000   \n",
       "75%     94.075000    5.188425   24.000000  666.000000   20.200000   16.955000   \n",
       "max    100.000000   12.126500   24.000000  711.000000   22.000000   37.970000   \n",
       "\n",
       "             MEDV  \n",
       "count  506.000000  \n",
       "mean    22.532806  \n",
       "std      9.197104  \n",
       "min      5.000000  \n",
       "25%     17.025000  \n",
       "50%     21.200000  \n",
       "75%     25.000000  \n",
       "max     50.000000  "
      ]
     },
     "execution_count": 64,
     "metadata": {},
     "output_type": "execute_result"
    }
   ],
   "source": [
    "boston.describe()"
   ]
  },
  {
   "cell_type": "code",
   "execution_count": 65,
   "id": "4f666829",
   "metadata": {},
   "outputs": [
    {
     "data": {
      "text/plain": [
       "Index(['CRIM', ' ZN ', 'INDUS ', 'CHAS', 'NOX', 'RM', 'AGE', 'DIS', 'RAD',\n",
       "       'TAX', 'PTRATIO', 'LSTAT', 'MEDV'],\n",
       "      dtype='object')"
      ]
     },
     "execution_count": 65,
     "metadata": {},
     "output_type": "execute_result"
    }
   ],
   "source": [
    "# afficher les noms des variables explicatives (“feature”) \n",
    "boston.columns"
   ]
  },
  {
   "cell_type": "markdown",
   "id": "38470d76",
   "metadata": {},
   "source": [
    "# Régression linéaire simple\n",
    "#### Dans un premier temps, nous estimons le prix d'une maison \n",
    "#### en utilisant une seule variable soit 'RM'"
   ]
  },
  {
   "cell_type": "code",
   "execution_count": 95,
   "id": "3033000c",
   "metadata": {},
   "outputs": [
    {
     "data": {
      "text/plain": [
       "<seaborn.axisgrid.JointGrid at 0x145ab8aa0a0>"
      ]
     },
     "execution_count": 95,
     "metadata": {},
     "output_type": "execute_result"
    },
    {
     "data": {
      "image/png": "[encoded data removed]",
      "text/plain": [
       "<Figure size 432x432 with 3 Axes>"
      ]
     },
     "metadata": {
      "needs_background": "light"
     },
     "output_type": "display_data"
    }
   ],
   "source": [
    "sns.jointplot(boston['RM'],boston['MEDV'],kind='hex')\n"
   ]
  },
  {
   "cell_type": "code",
   "execution_count": 91,
   "id": "51bfb7ea",
   "metadata": {},
   "outputs": [
    {
     "data": {
      "text/plain": [
       "<seaborn.axisgrid.FacetGrid at 0x145a98f8b50>"
      ]
     },
     "execution_count": 91,
     "metadata": {},
     "output_type": "execute_result"
    },
    {
     "data": {
      "image/png": "[encoded data removed]",
      "text/plain": [
       "<Figure size 360x360 with 1 Axes>"
      ]
     },
     "metadata": {
      "needs_background": "light"
     },
     "output_type": "display_data"
    }
   ],
   "source": [
    "sns.lmplot(x='RM',y ='MEDV', data=boston)\n"
   ]
  },
  {
   "cell_type": "code",
   "execution_count": 66,
   "id": "66063457",
   "metadata": {},
   "outputs": [
    {
     "name": "stdout",
     "output_type": "stream",
     "text": [
      "(506, 1)\n",
      "(506, 1)\n"
     ]
    }
   ],
   "source": [
    "X = boston[['RM']]\n",
    "y = boston[['MEDV']]\n",
    "print(X.shape)\n",
    "print(X.shape)"
   ]
  },
  {
   "cell_type": "code",
   "execution_count": 67,
   "id": "4551e9b7",
   "metadata": {},
   "outputs": [],
   "source": [
    "# chargement du modèle LinearRegression \n",
    "from sklearn.linear_model import LinearRegression\n",
    "from sklearn.model_selection import train_test_split\n",
    "X_train, X_test, y_train, y_test=train_test_split(X, y, test_size=0.2, random_state=3)"
   ]
  },
  {
   "cell_type": "code",
   "execution_count": 68,
   "id": "855816fa",
   "metadata": {},
   "outputs": [
    {
     "data": {
      "text/plain": [
       "array([[9.01161594]])"
      ]
     },
     "execution_count": 68,
     "metadata": {},
     "output_type": "execute_result"
    }
   ],
   "source": [
    "#Créer une instance linreg1 \n",
    "linreg1 = LinearRegression()\n",
    "#Entrainer linreg1 avec les sous-ensembles d'apprentissage puis caluler le test_score de linreg1\n",
    "# Entrainer le modèle \n",
    "linreg1.fit(X_train, y_train)\n",
    "#Aficcher l'intercept de linreg1\n",
    "linreg1.intercept_\n",
    "#Afficher les coefficients de linreg1\n",
    "linreg1.coef_"
   ]
  },
  {
   "cell_type": "code",
   "execution_count": 69,
   "id": "d52f2732",
   "metadata": {},
   "outputs": [
    {
     "name": "stdout",
     "output_type": "stream",
     "text": [
      "test_score =  0.5721625318143688\n",
      "R2 =  0.5721625318143688\n",
      "MAE =  35.40560537877825\n",
      "RMSE =  5.950260950477571\n",
      "MAE =  4.365257521734308\n",
      "MeadianAE =  3.2136662246741805\n"
     ]
    }
   ],
   "source": [
    "#Evaluation de la prédiction\n",
    "from sklearn.metrics import mean_absolute_error, mean_squared_error, median_absolute_error, r2_score\n",
    "y_pred = linreg1.predict(X_test)\n",
    "print('test_score = ',linreg1.score(X_test,y_test)) \n",
    "print('R2 = ',r2_score(y_test, y_pred))\n",
    "print('MAE = ',mean_squared_error(y_test, y_pred))\n",
    "print('RMSE = ', np.sqrt(mean_squared_error(y_test, y_pred)))\n",
    "print('MAE = ', mean_absolute_error(y_test, y_pred))\n",
    "print('MeadianAE = ', median_absolute_error(y_test, y_pred))"
   ]
  },
  {
   "cell_type": "code",
   "execution_count": 70,
   "id": "43430408",
   "metadata": {},
   "outputs": [
    {
     "name": "stdout",
     "output_type": "stream",
     "text": [
      "R2 Adjusted =  0.5713136479489211\n"
     ]
    }
   ],
   "source": [
    "#Adj r2 = 1-(1-R2)*(n-1)/(n-p-1)\n",
    "R2Adj = 1-(1-r2_score(y_test, y_pred))*(506-1)/(506-1-1)\n",
    "print('R2 Adjusted = ',R2Adj)"
   ]
  },
  {
   "cell_type": "code",
   "execution_count": 71,
   "id": "81e35a34",
   "metadata": {},
   "outputs": [
    {
     "data": {
      "text/plain": [
       "Text(0.5, 1.0, 'Actuals vs Regression Line')"
      ]
     },
     "execution_count": 71,
     "metadata": {},
     "output_type": "execute_result"
    },
    {
     "data": {
      "image/png": "[encoded data removed]",
      "text/plain": [
       "<Figure size 432x288 with 1 Axes>"
      ]
     },
     "metadata": {
      "needs_background": "light"
     },
     "output_type": "display_data"
    }
   ],
   "source": [
    "#Plot Our Actual and Predicted Values\n",
    "plt.plot(X_test, y_test, 'o', color='red');\n",
    "plt.plot(X_test,y_pred,color='blue')\n",
    "plt.title(\"Actuals vs Regression Line\")"
   ]
  },
  {
   "cell_type": "code",
   "execution_count": 72,
   "id": "8c4e5b13",
   "metadata": {},
   "outputs": [
    {
     "name": "stdout",
     "output_type": "stream",
     "text": [
      "                                 OLS Regression Results                                \n",
      "=======================================================================================\n",
      "Dep. Variable:                   MEDV   R-squared (uncentered):                   0.912\n",
      "Model:                            OLS   Adj. R-squared (uncentered):              0.912\n",
      "Method:                 Least Squares   F-statistic:                              1052.\n",
      "Date:                Sun, 08 May 2022   Prob (F-statistic):                    3.28e-55\n",
      "Time:                        10:48:00   Log-Likelihood:                         -347.27\n",
      "No. Observations:                 102   AIC:                                      696.5\n",
      "Df Residuals:                     101   BIC:                                      699.2\n",
      "Df Model:                           1                                                  \n",
      "Covariance Type:            nonrobust                                                  \n",
      "==============================================================================\n",
      "                 coef    std err          t      P>|t|      [0.025      0.975]\n",
      "------------------------------------------------------------------------------\n",
      "RM             3.6980      0.114     32.433      0.000       3.472       3.924\n",
      "==============================================================================\n",
      "Omnibus:                       19.855   Durbin-Watson:                   2.118\n",
      "Prob(Omnibus):                  0.000   Jarque-Bera (JB):               24.937\n",
      "Skew:                           1.023   Prob(JB):                     3.85e-06\n",
      "Kurtosis:                       4.297   Cond. No.                         1.00\n",
      "==============================================================================\n",
      "\n",
      "Notes:\n",
      "[1] R² is computed without centering (uncentered) since the model does not contain a constant.\n",
      "[2] Standard Errors assume that the covariance matrix of the errors is correctly specified.\n"
     ]
    }
   ],
   "source": [
    "import statsmodels.api as sm\n",
    "est = sm.OLS(y_test, X_test)\n",
    "est2 = est.fit()\n",
    "print(est2.summary())"
   ]
  },
  {
   "cell_type": "markdown",
   "id": "09d07846",
   "metadata": {},
   "source": [
    "#### F-statistique est très grande et indique que l’hypothèse d’avoir tous les coefficients nuls est rejetée.\n",
    "#### La valeur de Durbin Watson est 2, ainsi, il n’a pas d’autocorrélation entre les erreurs."
   ]
  },
  {
   "cell_type": "markdown",
   "id": "5e6adeb5",
   "metadata": {},
   "source": [
    " # Régression linéaire multiple"
   ]
  },
  {
   "cell_type": "code",
   "execution_count": 73,
   "id": "fdf4d604",
   "metadata": {},
   "outputs": [],
   "source": [
    "X = boston.drop('MEDV', axis=1)\n",
    "y = boston[['MEDV']]\n",
    "X_train, X_test, y_train, y_test=train_test_split(X, y, test_size=0.2, random_state=3)"
   ]
  },
  {
   "cell_type": "code",
   "execution_count": 74,
   "id": "dc7166d6",
   "metadata": {},
   "outputs": [
    {
     "name": "stdout",
     "output_type": "stream",
     "text": [
      "test_score =  0.7939670979504745\n",
      "R2 =  0.7939670979504745\n",
      "MAE =  17.05021221246785\n",
      "RMSE =  4.129190261112686\n",
      "MAE =  3.0141402036070444\n",
      "MeadianAE =  2.1899292923264397\n",
      "Intercept =  [41.71801439]\n",
      "Coefficients :  [[-1.36030883e-01  4.91228973e-02 -5.71075834e-02  3.58328502e+00\n",
      "  -1.65787614e+01  3.37070733e+00 -5.89271816e-03 -1.49182712e+00\n",
      "   2.79551096e-01 -1.10632713e-02 -8.87534865e-01 -5.13568824e-01]]\n"
     ]
    }
   ],
   "source": [
    "#Régression linéaire multiple (toutes les variables de Boston) \n",
    "linreg2 = LinearRegression(fit_intercept= True, normalize=False) \n",
    "#pour imposer une ordonnée à l'origine (Par défaut ='True')\n",
    "# Normalisation des données normalize=True\n",
    "linreg2.fit(X_train, y_train)\n",
    "y_pred = linreg2.predict(X_test)\n",
    "\n",
    "print('test_score = ',linreg2.score(X_test,y_test)) \n",
    "print('R2 = ',r2_score(y_test, y_pred))\n",
    "print('MAE = ',mean_squared_error(y_test, y_pred))\n",
    "print('RMSE = ', np.sqrt(mean_squared_error(y_test, y_pred)))\n",
    "print('MAE = ', mean_absolute_error(y_test, y_pred))\n",
    "print('MeadianAE = ', median_absolute_error(y_test, y_pred))\n",
    "\n",
    "print('Intercept = ', linreg2.intercept_)\n",
    "print('Coefficients : ',linreg2.coef_)"
   ]
  },
  {
   "cell_type": "code",
   "execution_count": 75,
   "id": "ca70e770",
   "metadata": {},
   "outputs": [
    {
     "data": {
      "text/plain": [
       "Text(0, 0.5, 'Residual')"
      ]
     },
     "execution_count": 75,
     "metadata": {},
     "output_type": "execute_result"
    },
    {
     "data": {
      "image/png": "[encoded data removed]",
      "text/plain": [
       "<Figure size 432x288 with 1 Axes>"
      ]
     },
     "metadata": {
      "needs_background": "light"
     },
     "output_type": "display_data"
    }
   ],
   "source": [
    "residuals = y_test-y_pred\n",
    "plt.plot(X_test,residuals, 'o', color='darkblue')\n",
    "plt.title(\"Residual Plot\")\n",
    "plt.xlabel(\"Independent Variable\")\n",
    "plt.ylabel(\"Residual\")"
   ]
  },
  {
   "cell_type": "code",
   "execution_count": 76,
   "id": "5c34fdd6",
   "metadata": {},
   "outputs": [
    {
     "name": "stdout",
     "output_type": "stream",
     "text": [
      "                                 OLS Regression Results                                \n",
      "=======================================================================================\n",
      "Dep. Variable:                   MEDV   R-squared (uncentered):                   0.973\n",
      "Model:                            OLS   Adj. R-squared (uncentered):              0.970\n",
      "Method:                 Least Squares   F-statistic:                              274.3\n",
      "Date:                Sun, 08 May 2022   Prob (F-statistic):                    2.52e-65\n",
      "Time:                        10:48:03   Log-Likelihood:                         -286.52\n",
      "No. Observations:                 102   AIC:                                      597.0\n",
      "Df Residuals:                      90   BIC:                                      628.5\n",
      "Df Model:                          12                                                  \n",
      "Covariance Type:            nonrobust                                                  \n",
      "==============================================================================\n",
      "                 coef    std err          t      P>|t|      [0.025      0.975]\n",
      "------------------------------------------------------------------------------\n",
      "CRIM           0.1918      0.114      1.685      0.096      -0.034       0.418\n",
      " ZN            0.0441      0.025      1.750      0.084      -0.006       0.094\n",
      "INDUS          0.1909      0.125      1.533      0.129      -0.057       0.438\n",
      "CHAS           3.5781      1.745      2.051      0.043       0.112       7.044\n",
      "NOX          -12.0035      6.980     -1.720      0.089     -25.871       1.864\n",
      "RM             7.0333      0.568     12.389      0.000       5.905       8.161\n",
      "AGE            0.0314      0.029      1.091      0.278      -0.026       0.089\n",
      "DIS           -0.7291      0.426     -1.712      0.090      -1.575       0.117\n",
      "RAD            0.0808      0.140      0.579      0.564      -0.197       0.358\n",
      "TAX           -0.0139      0.008     -1.692      0.094      -0.030       0.002\n",
      "PTRATIO       -0.2945      0.198     -1.484      0.141      -0.689       0.100\n",
      "LSTAT         -0.6419      0.113     -5.664      0.000      -0.867      -0.417\n",
      "==============================================================================\n",
      "Omnibus:                       19.762   Durbin-Watson:                   1.943\n",
      "Prob(Omnibus):                  0.000   Jarque-Bera (JB):               34.429\n",
      "Skew:                           0.806   Prob(JB):                     3.34e-08\n",
      "Kurtosis:                       5.345   Cond. No.                     7.31e+03\n",
      "==============================================================================\n",
      "\n",
      "Notes:\n",
      "[1] R² is computed without centering (uncentered) since the model does not contain a constant.\n",
      "[2] Standard Errors assume that the covariance matrix of the errors is correctly specified.\n",
      "[3] The condition number is large, 7.31e+03. This might indicate that there are\n",
      "strong multicollinearity or other numerical problems.\n"
     ]
    }
   ],
   "source": [
    "import statsmodels.api as sm\n",
    "est1 = sm.OLS(y_test, X_test)\n",
    "est2 = est1.fit()\n",
    "print(est2.summary())"
   ]
  },
  {
   "cell_type": "markdown",
   "id": "d40cde06",
   "metadata": {},
   "source": [
    "### F-statistique est très grande et indique que l’hypothèse d’avoir tous les coefficients nuls est rejetée.\n",
    "### La valeur de Durbin Watson est 2, ainsi, il n’a pas d’autocorrélation entre les erreurs.\n",
    "### Il y a plusieurs variables qui ne sont pas significatives dans l’établissement de la droite de régression, nous pouvons alors les éliminer (nous gardons ceux qui possèdent p-value<0.05)."
   ]
  },
  {
   "cell_type": "markdown",
   "id": "5c96f5a8",
   "metadata": {},
   "source": [
    "# Sélection de variables"
   ]
  },
  {
   "cell_type": "code",
   "execution_count": 83,
   "id": "a88b4b8d",
   "metadata": {},
   "outputs": [],
   "source": [
    "# Define the X (inputs) and y (target) features\n",
    "X = boston.drop(\"MEDV\", axis=1)\n",
    "y = boston[\"MEDV\"]"
   ]
  },
  {
   "cell_type": "code",
   "execution_count": 84,
   "id": "11d3d44b",
   "metadata": {},
   "outputs": [],
   "source": [
    "import pandas as pd\n",
    "from sklearn.preprocessing import MinMaxScaler, StandardScaler, RobustScaler\n",
    "from sklearn.model_selection import train_test_split"
   ]
  },
  {
   "cell_type": "code",
   "execution_count": 85,
   "id": "476d7ef3",
   "metadata": {},
   "outputs": [
    {
     "name": "stdout",
     "output_type": "stream",
     "text": [
      "(404, 12)\n",
      "(102, 12)\n"
     ]
    }
   ],
   "source": [
    "X_train, X_test, y_train, y_test = train_test_split(X, y, test_size=0.2, random_state=3)\n",
    "print(X_train.shape)\n",
    "print(X_test.shape)"
   ]
  },
  {
   "cell_type": "code",
   "execution_count": 86,
   "id": "fb03e2bf",
   "metadata": {},
   "outputs": [
    {
     "name": "stdout",
     "output_type": "stream",
     "text": [
      "Sélection de variables : [False False  True False False  True False False False False False  True]\n",
      "Scores de variables : [ 69.32607475  61.471421   134.32222259  25.30149275  89.893855\n",
      " 344.39434272  73.80483069  27.27794661  63.59031524 108.45903872\n",
      " 129.00041566 467.16420955]\n",
      "Variables sélectionnées: ['INDUS ', 'RM', 'LSTAT']\n",
      "Variables supprimées : ['CRIM', ' ZN ', 'CHAS', 'NOX', 'AGE', 'DIS', 'RAD', 'TAX', 'PTRATIO']\n"
     ]
    }
   ],
   "source": [
    "from sklearn.feature_selection import SelectKBest\n",
    "from sklearn.feature_selection import f_classif      \n",
    "from sklearn.feature_selection import f_regression  \n",
    "#Score function:\n",
    "#For regression: f_regression, mutual_info_regression\n",
    "#For classification: chi2, f_classif, mutual_info_classif\n",
    "\n",
    "kbest = SelectKBest(score_func=f_regression, k=3)\n",
    "kbest.fit(X_train, y_train)\n",
    "print(\"Sélection de variables :\", kbest.get_support())\n",
    "print(\"Scores de variables :\", kbest.scores_)\n",
    "print(\"Variables sélectionnées:\", list(X.columns[kbest.get_support()]))\n",
    "print(\"Variables supprimées :\", list(X.columns[~kbest.get_support()]))"
   ]
  },
  {
   "cell_type": "code",
   "execution_count": 87,
   "id": "ec8cd9ce",
   "metadata": {},
   "outputs": [
    {
     "name": "stdout",
     "output_type": "stream",
     "text": [
      "test_score =  0.7019405174428994\n",
      "R2 =  0.7019405174428994\n",
      "MAE =  24.665853749491585\n",
      "RMSE =  4.966472968766827\n",
      "MAE =  3.709885123876638\n",
      "Meadian =  3.102422130966522\n"
     ]
    }
   ],
   "source": [
    "X_train = kbest.transform(X_train)\n",
    "X_test = kbest.transform(X_test)\n",
    "model = LinearRegression()\n",
    "model.fit(X_train, y_train)\n",
    "y_pred = model.predict(X_test)\n",
    "\n",
    "print('test_score = ',model.score(X_test,y_test)) \n",
    "print('R2 = ',r2_score(y_test, y_pred))\n",
    "print('MAE = ',mean_squared_error(y_test, y_pred))\n",
    "print('RMSE = ', np.sqrt(mean_squared_error(y_test, y_pred)))\n",
    "print('MAE = ', mean_absolute_error(y_test, y_pred))\n",
    "print('Meadian = ', median_absolute_error(y_test, y_pred))"
   ]
  },
  {
   "cell_type": "code",
   "execution_count": null,
   "id": "c41764c1",
   "metadata": {},
   "outputs": [],
   "source": [
    "# normalized residuals pour le QQ-plot\n",
    "model_norm_residuals=fit1.get_influence().resid_studentized_internal\n",
    "from statsmodels."
   ]
  },
  {
   "cell_type": "code",
   "execution_count": 97,
   "id": "bd6cf9d2",
   "metadata": {},
   "outputs": [
    {
     "data": {
      "image/png": "[encoded data removed]",
      "text/plain": [
       "<Figure size 432x288 with 1 Axes>"
      ]
     },
     "metadata": {
      "needs_background": "light"
     },
     "output_type": "display_data"
    }
   ],
   "source": [
    "sns.distplot((y_pred),bins=50);\n"
   ]
  },
  {
   "cell_type": "code",
   "execution_count": null,
   "id": "29f81a38",
   "metadata": {},
   "outputs": [],
   "source": []
  }
 ],
 "metadata": {
  "kernelspec": {
   "display_name": "Python 3",
   "language": "python",
   "name": "python3"
  },
  "language_info": {
   "codemirror_mode": {
    "name": "ipython",
    "version": 3
   },
   "file_extension": ".py",
   "mimetype": "text/x-python",
   "name": "python",
   "nbconvert_exporter": "python",
   "pygments_lexer": "ipython3",
   "version": "3.8.8"
  }
 },
 "nbformat": 4,
 "nbformat_minor": 5
}
